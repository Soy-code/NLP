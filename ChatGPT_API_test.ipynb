{
 "cells": [
  {
   "cell_type": "code",
   "execution_count": 1,
   "metadata": {},
   "outputs": [],
   "source": [
    "import os\n",
    "from openai import OpenAI"
   ]
  },
  {
   "cell_type": "code",
   "execution_count": 2,
   "metadata": {},
   "outputs": [],
   "source": [
    "## chat_gpt def\n",
    "client = OpenAI(\n",
    "    api_key = os.getenv('OPENAI_API_KEY')\n",
    ")\n",
    "def chat_gpt(prompt) :\n",
    "    response = client.chat.completions.create(\n",
    "        model ='gpt-3.5-turbo',\n",
    "        messages = [{'role':'user', 'content':prompt}]\n",
    "    )\n",
    "    return print(response.choices[0].message.content.strip())"
   ]
  },
  {
   "cell_type": "code",
   "execution_count": 7,
   "metadata": {},
   "outputs": [
    {
     "name": "stdout",
     "output_type": "stream",
     "text": [
      "You: 안녕\n",
      "ChatGPT: 안녕하세요! 무엇을 도와드릴까요?\n",
      "You: 커피 한잔 마시고 싶다\n",
      "ChatGPT: 저도 커피 한 잔 마시는 것이 좋아요! 커피를 마시기 위해서는 가까운 카페에 가거나 집에서 커피를 내릴 수도 있어요. 어떤 커피를 원하시나요? 아메리카노, 카페라떼, 카푸치노 등 다양한 선택지가 있어요.\n",
      "You: 나는 카페라떼 좋아하는데 유당불내증이 있어\n",
      "ChatGPT: 유당불내증을 가지고 있다면, 카페라떼를 마실 때 유당 대체제나 유당 없는 우유를 사용할 수 있어요. 대부분의 카페나 슈퍼마켓에는 유당 없는 우유 옵션이 있기 때문에 선택할 수 있어요. 또는 식물성 우유인 콩 우유, 쌀 우유, 아몬드 우유 등도 대체재로 사용할 수 있어요. 이렇게 대체제를 사용하면 유당불내증을 가지고 있는 사람들도 카페라떼를 즐길 수 있어요.\n",
      "You: 끝\n",
      "ChatGPT: 감사합니다! 다른 궁금한 점이 있으면 언제든지 물어보세요. 좋은 하루 되세요!\n"
     ]
    }
   ],
   "source": [
    "messages = []\n",
    "prompt = ''\n",
    "while prompt != \"끝\" :\n",
    "    \n",
    "    client = OpenAI(\n",
    "        api_key = os.getenv('OPENAI_API_KEY')\n",
    "    )\n",
    "    \n",
    "    prompt = input(\"User: \")\n",
    "    messages.append({'role':'user', \n",
    "                     'content':prompt})\n",
    "    \n",
    "    print(f\"You: {prompt}\")\n",
    "    \n",
    "    response = client.chat.completions.create(\n",
    "        model = 'gpt-3.5-turbo', \n",
    "        messages = messages\n",
    "    )\n",
    "    \n",
    "    chat_response = response.choices[0].message.content.strip() \n",
    "    print(f\"ChatGPT: {chat_response}\")\n",
    "    messages.append({'role':'assistant', \n",
    "                     'content': chat_response})\n",
    "    "
   ]
  },
  {
   "cell_type": "code",
   "execution_count": null,
   "metadata": {},
   "outputs": [],
   "source": []
  }
 ],
 "metadata": {
  "kernelspec": {
   "display_name": "Python 3",
   "language": "python",
   "name": "python3"
  },
  "language_info": {
   "codemirror_mode": {
    "name": "ipython",
    "version": 3
   },
   "file_extension": ".py",
   "mimetype": "text/x-python",
   "name": "python",
   "nbconvert_exporter": "python",
   "pygments_lexer": "ipython3",
   "version": "3.10.9"
  }
 },
 "nbformat": 4,
 "nbformat_minor": 2
}
