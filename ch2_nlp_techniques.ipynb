{
 "cells": [
  {
   "cell_type": "markdown",
   "metadata": {},
   "source": [
    "말뭉치/토큰/타입\n",
    "* 말뭉치(corpus): 원시텍스트(ASCII, UTF-8 형태)와 이 텍스트에 연관된 메타데이터를 포함\n",
    "* 원시 텍스트는 문자(바이트) 시퀀스지만, 일반적으로 문자를 토큰이라는 연속된 단위로 묶었을 때 유용함"
   ]
  },
  {
   "cell_type": "code",
   "execution_count": 1,
   "metadata": {},
   "outputs": [],
   "source": [
    "import spacy\n",
    "from nltk.tokenize import TweetTokenizer"
   ]
  },
  {
   "cell_type": "code",
   "execution_count": 2,
   "metadata": {},
   "outputs": [
    {
     "name": "stdout",
     "output_type": "stream",
     "text": [
      "['mary', ',', 'do', \"n't\", 'slap', 'the', 'green', 'witch', '.']\n"
     ]
    }
   ],
   "source": [
    "nlp =spacy.load('en_core_web_sm')\n",
    "text = \"Mary, don't slap the green witch.\"\n",
    "print([str(token) for token in nlp(text.lower())])"
   ]
  },
  {
   "cell_type": "code",
   "execution_count": 3,
   "metadata": {},
   "outputs": [
    {
     "name": "stdout",
     "output_type": "stream",
     "text": [
      "['snow', 'white', 'and', 'the', 'seven', 'degrees']\n"
     ]
    }
   ],
   "source": [
    "tweet = u\"Snow White and the Seven Degrees\"\n",
    "tokenzier = TweetTokenizer()\n",
    "print(tokenzier.tokenize(tweet.lower()))"
   ]
  },
  {
   "cell_type": "markdown",
   "metadata": {},
   "source": [
    "N-GRAM\n",
    "* spacy와 nltk에서도 n-gram을 쉽게 사용 가능"
   ]
  },
  {
   "cell_type": "code",
   "execution_count": 4,
   "metadata": {},
   "outputs": [
    {
     "name": "stdout",
     "output_type": "stream",
     "text": [
      "[['mary', ',', 'do'], [',', 'do', \"n't\"], ['do', \"n't\", 'slap'], [\"n't\", 'slap', 'the'], ['slap', 'the', 'green'], ['the', 'green', 'witch'], ['green', 'witch', '.']]\n"
     ]
    }
   ],
   "source": [
    "def n_grams(text, n):\n",
    "    return [text[i:i+n] for i in range(len(text)-n+1)]\n",
    "text = \"Mary, don't slap the green witch.\"\n",
    "cleaned = [str(token) for token in nlp(text.lower())]\n",
    "print(n_grams(cleaned, 3))\n"
   ]
  },
  {
   "cell_type": "markdown",
   "metadata": {},
   "source": [
    "표제어와 어간\n",
    "* 표제어(lemma): 단어의 기본형\n",
    "* 표제어 추출(lemmatization): 토큰을 표제어로 바꾸어 벡터 표현의 차원을 줄이는 방법\n",
    "* 어간 추출(stemming): 수동으로 만든 규칙을 사용해 단어의 끝을 잘라 어간(stem)이라는 공통 형태로 추출"
   ]
  },
  {
   "cell_type": "code",
   "execution_count": 5,
   "metadata": {},
   "outputs": [
    {
     "name": "stdout",
     "output_type": "stream",
     "text": [
      "he --> he\n",
      "was --> be\n",
      "running --> run\n",
      "late --> late\n"
     ]
    }
   ],
   "source": [
    "# lemmatization\n",
    "import spacy\n",
    "nlp = spacy.load('en_core_web_sm')\n",
    "doc = nlp(u\"he was running late\")  # unicode string \n",
    "for token in doc : \n",
    "    print(\"{} --> {}\".format(token, token.lemma_))"
   ]
  },
  {
   "cell_type": "code",
   "execution_count": 6,
   "metadata": {},
   "outputs": [],
   "source": [
    "# stemming\n",
    "from nltk.stem import PorterStemmer\n",
    "from nltk.tokenize import word_tokenize\n",
    "ps = PorterStemmer()\n",
    "\n",
    "setence = \"Walking is one of the main gaits of terrestrial locomotion among legged animals\"\n",
    "doc = word_tokenize(setence)\n",
    "for token in doc :\n",
    "    print(\"{} --> {}\".format(token, ps.stem(token)))\n",
    "    "
   ]
  },
  {
   "cell_type": "markdown",
   "metadata": {},
   "source": [
    "단어 분류하기: 품사 태깅"
   ]
  },
  {
   "cell_type": "code",
   "execution_count": null,
   "metadata": {},
   "outputs": [],
   "source": [
    "import spacy\n",
    "nlp = spacy.load(\"en_core_web_sm\")\n",
    "doc = nlp(u\"Mary slapped the green witch.\")\n",
    "for token in doc :\n",
    "    print(\"{} --> {}\".format(token, token.pos_))"
   ]
  },
  {
   "cell_type": "markdown",
   "metadata": {},
   "source": [
    "청크 나누기와 개체명 인식\n",
    "* 명사, 동사, 형용사 같은 문법 요소로 구성된 고차원의 단위를 유도해 내는 것"
   ]
  },
  {
   "cell_type": "code",
   "execution_count": null,
   "metadata": {},
   "outputs": [],
   "source": [
    "import spacy\n",
    "nlp = spacy.load(\"en_core_web_sm\")\n",
    "doc = nlp(u\"Mary slapped the green witch.\")\n",
    "for chunk in doc.noun_chunks :\n",
    "    print(\"{} --> {}\".format(chunk, chunk.label_))\n",
    "    "
   ]
  }
 ],
 "metadata": {
  "kernelspec": {
   "display_name": "Python 3",
   "language": "python",
   "name": "python3"
  },
  "language_info": {
   "codemirror_mode": {
    "name": "ipython",
    "version": 3
   },
   "file_extension": ".py",
   "mimetype": "text/x-python",
   "name": "python",
   "nbconvert_exporter": "python",
   "pygments_lexer": "ipython3",
   "version": "3.10.9"
  }
 },
 "nbformat": 4,
 "nbformat_minor": 2
}
