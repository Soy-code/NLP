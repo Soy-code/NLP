{
 "cells": [
  {
   "cell_type": "code",
   "execution_count": 18,
   "metadata": {},
   "outputs": [
    {
     "name": "stdout",
     "output_type": "stream",
     "text": [
      "a\n",
      "b\n",
      "c\n",
      "alpha\n",
      "beta\n",
      "gamma\n"
     ]
    }
   ],
   "source": [
    "class Alphabet() :\n",
    "    def reportA(self) :\n",
    "        print(\"a\")\n",
    "    def reportB(self) :\n",
    "        print(\"b\")\n",
    "    def reportC(self):\n",
    "        print(\"c\")\n",
    "class GreekAlphabet() :\n",
    "    def reportAlpha(self) :\n",
    "        print(\"alpha\")\n",
    "    def reportBeta(self) :\n",
    "        print(\"beta\")\n",
    "    def reportGamma(self) :\n",
    "        print(\"gamma\")\n",
    "\n",
    "# Alphabet 클래스를 word에 인스턴스 생성\n",
    "word = Alphabet() \n",
    "word.reportA()\n",
    "word.reportB()\n",
    "word.reportC()\n",
    "\n",
    "# GreekAlphabet 클래스를 greek_word에 인스턴스 생성\n",
    "greek_word = GreekAlphabet()\n",
    "greek_word.reportAlpha()\n",
    "greek_word.reportBeta()\n",
    "greek_word.reportGamma()"
   ]
  },
  {
   "cell_type": "code",
   "execution_count": 20,
   "metadata": {},
   "outputs": [
    {
     "name": "stdout",
     "output_type": "stream",
     "text": [
      "a\n",
      "b\n",
      "c\n",
      "alpha\n",
      "beta\n",
      "gamma\n"
     ]
    }
   ],
   "source": [
    "class Word() :\n",
    "    def reportA(self):\n",
    "        print(\"This is an alphabet 'A'\")\n",
    "    def reportAlpha(self):\n",
    "        print(\"This is a greek alphabet 'alpha'\")\n",
    "\n",
    "class Alphabet(Word) :\n",
    "    def reportA(self) :\n",
    "        print(\"a\")\n",
    "    def reportB(self) :\n",
    "        print(\"b\")\n",
    "    def reportC(self):\n",
    "        print(\"c\")\n",
    "        \n",
    "class GreekAlphabet(Word) :\n",
    "    def reportAlpha(self) :\n",
    "        print(\"alpha\")\n",
    "    def reportBeta(self) :\n",
    "        print(\"beta\")\n",
    "    def reportGamma(self) :\n",
    "        print(\"gamma\")\n",
    "\n",
    "# Alphabet 클래스를 word에 인스턴스 생성\n",
    "word = Alphabet() \n",
    "word.reportA()\n",
    "word.reportB()\n",
    "word.reportC()\n",
    "\n",
    "# GreekAlphabet 클래스를 greek_word에 인스턴스 생성\n",
    "greek_word = GreekAlphabet()\n",
    "greek_word.reportAlpha()\n",
    "greek_word.reportBeta()\n",
    "greek_word.reportGamma()"
   ]
  },
  {
   "cell_type": "code",
   "execution_count": 21,
   "metadata": {},
   "outputs": [
    {
     "name": "stdout",
     "output_type": "stream",
     "text": [
      "This is an alphabet 'A'\n",
      "b\n",
      "c\n",
      "This is a greek alphabet 'alpha'\n",
      "beta\n",
      "gamma\n"
     ]
    }
   ],
   "source": [
    "class Word() :\n",
    "    def reportA(self):\n",
    "        print(\"This is an alphabet 'A'\")\n",
    "    def reportAlpha(self):\n",
    "        print(\"This is a greek alphabet 'alpha'\")\n",
    "\n",
    "class Alphabet(Word) :\n",
    "    def reportB(self) :\n",
    "        print(\"b\")\n",
    "    def reportC(self):\n",
    "        print(\"c\")\n",
    "        \n",
    "class GreekAlphabet(Word) :\n",
    "    def reportBeta(self) :\n",
    "        print(\"beta\")\n",
    "    def reportGamma(self) :\n",
    "        print(\"gamma\")\n",
    "\n",
    "# Alphabet 클래스를 word에 인스턴스 생성\n",
    "word = Alphabet() \n",
    "word.reportA()\n",
    "word.reportB()\n",
    "word.reportC()\n",
    "\n",
    "# GreekAlphabet 클래스를 greek_word에 인스턴스 생성\n",
    "greek_word = GreekAlphabet()\n",
    "greek_word.reportAlpha()\n",
    "greek_word.reportBeta()\n",
    "greek_word.reportGamma()"
   ]
  },
  {
   "cell_type": "markdown",
   "metadata": {},
   "source": [
    "* super: 자식 클래스에서 부모 클래스의 내용을 사용하고 싶은 경우"
   ]
  },
  {
   "cell_type": "code",
   "execution_count": 24,
   "metadata": {},
   "outputs": [
    {
     "name": "stdout",
     "output_type": "stream",
     "text": [
      "This is an alphabet 'A'\n",
      "alpha\n",
      "beta\n"
     ]
    }
   ],
   "source": [
    "class Word() :\n",
    "    def reportA(self) :\n",
    "        print(\"This is an alphabet 'A'\")\n",
    "    def reportAlpha(self) :\n",
    "        print(\"This is a greek alphabet 'alpha'\")\n",
    "\n",
    "class Alphabet(Word) :\n",
    "    \"\"\"print word\"\"\"\n",
    "    \n",
    "class GreekAlphabet(Word) :\n",
    "    def reportA(self) :\n",
    "        print(\"alpha\")\n",
    "    def reportB(self) :\n",
    "        print(\"beta\")\n",
    "\n",
    "alphabet = Alphabet()\n",
    "alphabet.reportA()\n",
    "\n",
    "greek_alphabet = GreekAlphabet()\n",
    "greek_alphabet.reportA()\n",
    "greek_alphabet.reportB()"
   ]
  },
  {
   "cell_type": "code",
   "execution_count": 26,
   "metadata": {},
   "outputs": [
    {
     "name": "stdout",
     "output_type": "stream",
     "text": [
      "This is an alphabet 'A'\n",
      "This is an alphabet 'A'\n",
      "beta\n"
     ]
    }
   ],
   "source": [
    "class Word() :\n",
    "    def reportA(self) :\n",
    "        print(\"This is an alphabet 'A'\")\n",
    "    def reportAlpha(self) :\n",
    "        print(\"This is a greek alphabet 'alpha'\")\n",
    "\n",
    "class Alphabet(Word) :\n",
    "    \"\"\"print word\"\"\"\n",
    "    \n",
    "class GreekAlphabet(Word) :\n",
    "    def reportA(self) :\n",
    "        super().reportA()\n",
    "    def reportB(self) :\n",
    "        print(\"beta\")\n",
    "\n",
    "alphabet = Alphabet()\n",
    "alphabet.reportA()\n",
    "\n",
    "greek_alphabet = GreekAlphabet()\n",
    "greek_alphabet.reportA()\n",
    "greek_alphabet.reportB()"
   ]
  }
 ],
 "metadata": {
  "kernelspec": {
   "display_name": "Python 3",
   "language": "python",
   "name": "python3"
  },
  "language_info": {
   "codemirror_mode": {
    "name": "ipython",
    "version": 3
   },
   "file_extension": ".py",
   "mimetype": "text/x-python",
   "name": "python",
   "nbconvert_exporter": "python",
   "pygments_lexer": "ipython3",
   "version": "3.10.9"
  }
 },
 "nbformat": 4,
 "nbformat_minor": 2
}
